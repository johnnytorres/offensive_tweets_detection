{
 "cells": [
  {
   "cell_type": "code",
   "execution_count": 1,
   "metadata": {},
   "outputs": [],
   "source": [
    "%matplotlib inline\n",
    "import pandas as pd\n",
    "import numpy as np\n",
    "import matplotlib.pyplot as plt\n",
    "from sklearn.metrics import classification_report\n",
    "from sklearn.metrics import accuracy_score\n",
    "from sklearn.metrics import f1_score\n",
    "from sklearn.metrics import roc_auc_score\n",
    "from sklearn.metrics import precision_recall_fscore_support"
   ]
  },
  {
   "cell_type": "code",
   "execution_count": 2,
   "metadata": {},
   "outputs": [],
   "source": [
    "def calc_metrics(dataset, labels, header):\n",
    "    pred_labels=[l+'_pred' for l in labels]\n",
    "    y_true = dataset[labels]\n",
    "    y_pred = dataset[pred_labels]\n",
    "    metrics = precision_recall_fscore_support(y_true, y_pred)\n",
    "    metrics = [list(m) for m in metrics]\n",
    "\n",
    "    avg = precision_recall_fscore_support(y_true, y_pred, average='macro')\n",
    "    avg = np.array(avg)\n",
    "    avg[3] = np.sum(metrics[3])\n",
    "\n",
    "    m = np.array(metrics)\n",
    "    m2 = np.append(m.T,  np.array(avg).reshape(1,4), axis=0)\n",
    "    m2=m2[:,:3]\n",
    "    stat=m2.flatten()\n",
    "    stat=stat.reshape(-1,1).T * 100\n",
    "    lstat=stat.flatten().tolist()\n",
    "    header.extend(lstat)\n",
    "    return header"
   ]
  },
  {
   "cell_type": "markdown",
   "metadata": {},
   "source": [
    "# Models"
   ]
  },
  {
   "cell_type": "code",
   "execution_count": 3,
   "metadata": {},
   "outputs": [
    {
     "name": "stdout",
     "output_type": "stream",
     "text": [
      "<class 'pandas.core.frame.DataFrame'>\n",
      "RangeIndex: 66200 entries, 0 to 66199\n",
      "Data columns (total 8 columns):\n",
      "subtask_a         66200 non-null object\n",
      "subtask_a_pred    66200 non-null object\n",
      "run_id            66200 non-null object\n",
      "timestamp         66200 non-null float64\n",
      "model             66200 non-null object\n",
      "set               66200 non-null object\n",
      "kfold             66200 non-null int64\n",
      "id                66200 non-null int64\n",
      "dtypes: float64(1), int64(2), object(5)\n",
      "memory usage: 4.0+ MB\n"
     ]
    }
   ],
   "source": [
    "path='../results/predictions_taska.csv'\n",
    "ds = pd.read_csv(path,keep_default_na=False)\n",
    "ds.info()"
   ]
  },
  {
   "cell_type": "code",
   "execution_count": 4,
   "metadata": {},
   "outputs": [
    {
     "data": {
      "text/plain": [
       "(array(['NOT', 'OFF'], dtype=object), array(['NOT', 'OFF'], dtype=object))"
      ]
     },
     "execution_count": 4,
     "metadata": {},
     "output_type": "execute_result"
    }
   ],
   "source": [
    "ds.subtask_a.unique(),ds.subtask_a_pred.unique()"
   ]
  },
  {
   "cell_type": "code",
   "execution_count": 5,
   "metadata": {},
   "outputs": [
    {
     "data": {
      "text/html": [
       "<div>\n",
       "<style scoped>\n",
       "    .dataframe tbody tr th:only-of-type {\n",
       "        vertical-align: middle;\n",
       "    }\n",
       "\n",
       "    .dataframe tbody tr th {\n",
       "        vertical-align: top;\n",
       "    }\n",
       "\n",
       "    .dataframe thead th {\n",
       "        text-align: right;\n",
       "    }\n",
       "</style>\n",
       "<table border=\"1\" class=\"dataframe\">\n",
       "  <thead>\n",
       "    <tr style=\"text-align: right;\">\n",
       "      <th></th>\n",
       "      <th></th>\n",
       "      <th></th>\n",
       "      <th>subtask_a_pred</th>\n",
       "    </tr>\n",
       "    <tr>\n",
       "      <th>model</th>\n",
       "      <th>run_id</th>\n",
       "      <th>set</th>\n",
       "      <th></th>\n",
       "    </tr>\n",
       "  </thead>\n",
       "  <tbody>\n",
       "    <tr>\n",
       "      <th rowspan=\"2\" valign=\"top\">bilstm</th>\n",
       "      <th rowspan=\"2\" valign=\"top\">e4a43c79-d251-46e2-b431-c0115b70a42f</th>\n",
       "      <th>cv</th>\n",
       "      <td>10592</td>\n",
       "    </tr>\n",
       "    <tr>\n",
       "      <th>test</th>\n",
       "      <td>2648</td>\n",
       "    </tr>\n",
       "    <tr>\n",
       "      <th rowspan=\"2\" valign=\"top\">cnn</th>\n",
       "      <th rowspan=\"2\" valign=\"top\">031f4071-a31c-42ed-970e-e2c4056efb73</th>\n",
       "      <th>cv</th>\n",
       "      <td>10592</td>\n",
       "    </tr>\n",
       "    <tr>\n",
       "      <th>test</th>\n",
       "      <td>2648</td>\n",
       "    </tr>\n",
       "    <tr>\n",
       "      <th rowspan=\"2\" valign=\"top\">fasttext</th>\n",
       "      <th rowspan=\"2\" valign=\"top\">965a1b10-32a6-4474-85af-b9b9444a00c4</th>\n",
       "      <th>cv</th>\n",
       "      <td>10592</td>\n",
       "    </tr>\n",
       "    <tr>\n",
       "      <th>test</th>\n",
       "      <td>2648</td>\n",
       "    </tr>\n",
       "    <tr>\n",
       "      <th rowspan=\"2\" valign=\"top\">lr</th>\n",
       "      <th rowspan=\"2\" valign=\"top\">beff7b70-dd2a-4728-acbf-855b8e3afd35</th>\n",
       "      <th>cv</th>\n",
       "      <td>10592</td>\n",
       "    </tr>\n",
       "    <tr>\n",
       "      <th>test</th>\n",
       "      <td>2648</td>\n",
       "    </tr>\n",
       "    <tr>\n",
       "      <th rowspan=\"2\" valign=\"top\">lstm</th>\n",
       "      <th rowspan=\"2\" valign=\"top\">d4331456-4c3b-4e5f-954e-d751a61e862a</th>\n",
       "      <th>cv</th>\n",
       "      <td>10592</td>\n",
       "    </tr>\n",
       "    <tr>\n",
       "      <th>test</th>\n",
       "      <td>2648</td>\n",
       "    </tr>\n",
       "  </tbody>\n",
       "</table>\n",
       "</div>"
      ],
      "text/plain": [
       "                                                    subtask_a_pred\n",
       "model    run_id                               set                 \n",
       "bilstm   e4a43c79-d251-46e2-b431-c0115b70a42f cv             10592\n",
       "                                              test            2648\n",
       "cnn      031f4071-a31c-42ed-970e-e2c4056efb73 cv             10592\n",
       "                                              test            2648\n",
       "fasttext 965a1b10-32a6-4474-85af-b9b9444a00c4 cv             10592\n",
       "                                              test            2648\n",
       "lr       beff7b70-dd2a-4728-acbf-855b8e3afd35 cv             10592\n",
       "                                              test            2648\n",
       "lstm     d4331456-4c3b-4e5f-954e-d751a61e862a cv             10592\n",
       "                                              test            2648"
      ]
     },
     "execution_count": 5,
     "metadata": {},
     "output_type": "execute_result"
    }
   ],
   "source": [
    "ds.groupby(['model','run_id','set']).agg({'subtask_a_pred': 'count'})"
   ]
  },
  {
   "cell_type": "code",
   "execution_count": 6,
   "metadata": {},
   "outputs": [
    {
     "name": "stdout",
     "output_type": "stream",
     "text": [
      "              precision    recall  f1-score   support\n",
      "\n",
      "         NOT       0.83      0.75      0.79      1759\n",
      "         OFF       0.59      0.69      0.63       889\n",
      "\n",
      "   micro avg       0.73      0.73      0.73      2648\n",
      "   macro avg       0.71      0.72      0.71      2648\n",
      "weighted avg       0.75      0.73      0.74      2648\n",
      "\n"
     ]
    }
   ],
   "source": [
    "results = ds[(ds.model=='cnn') & (ds.set=='test')]\n",
    "print(classification_report(results.subtask_a, results.subtask_a_pred))"
   ]
  },
  {
   "cell_type": "code",
   "execution_count": 7,
   "metadata": {},
   "outputs": [],
   "source": [
    "benchmarking = []\n",
    "\n",
    "labels =['subtask_a']\n",
    "\n",
    "results = ds[(ds.model=='lr') & (ds.set=='test')]\n",
    "m=calc_metrics(results, labels, ['LR'])\n",
    "benchmarking.append(m)\n",
    "\n",
    "results = ds[(ds.model=='cnn') & (ds.set=='test')]\n",
    "m=calc_metrics(results, labels, ['CNN'])\n",
    "benchmarking.append(m)\n",
    "\n",
    "results = ds[(ds.model=='lstm') & (ds.set=='test')]\n",
    "m=calc_metrics(results, labels, ['LSTM'])\n",
    "benchmarking.append(m)\n",
    "\n",
    "results = ds[(ds.model=='bilstm') & (ds.set=='test')]\n",
    "m=calc_metrics(results, labels, ['BI-LSTM'])\n",
    "benchmarking.append(m)\n",
    "\n",
    "results = ds[(ds.model=='fasttext') & (ds.set=='test')]\n",
    "m=calc_metrics(results, labels, ['FastText'])\n",
    "benchmarking.append(m)\n",
    "\n",
    "\n",
    "#benchmarking"
   ]
  },
  {
   "cell_type": "code",
   "execution_count": 8,
   "metadata": {},
   "outputs": [
    {
     "data": {
      "text/html": [
       "<div>\n",
       "<style scoped>\n",
       "    .dataframe tbody tr th:only-of-type {\n",
       "        vertical-align: middle;\n",
       "    }\n",
       "\n",
       "    .dataframe tbody tr th {\n",
       "        vertical-align: top;\n",
       "    }\n",
       "\n",
       "    .dataframe thead th {\n",
       "        text-align: right;\n",
       "    }\n",
       "</style>\n",
       "<table border=\"1\" class=\"dataframe\">\n",
       "  <thead>\n",
       "    <tr style=\"text-align: right;\">\n",
       "      <th></th>\n",
       "      <th>model</th>\n",
       "      <th>NOT-P</th>\n",
       "      <th>NOT-R</th>\n",
       "      <th>NOT-F1</th>\n",
       "      <th>OFF-P</th>\n",
       "      <th>OFF-R</th>\n",
       "      <th>OFF-F1</th>\n",
       "      <th>P</th>\n",
       "      <th>R</th>\n",
       "      <th>F1</th>\n",
       "    </tr>\n",
       "  </thead>\n",
       "  <tbody>\n",
       "    <tr>\n",
       "      <th>0</th>\n",
       "      <td>LR</td>\n",
       "      <td>81.801471</td>\n",
       "      <td>75.895395</td>\n",
       "      <td>78.737835</td>\n",
       "      <td>58.267717</td>\n",
       "      <td>66.591676</td>\n",
       "      <td>62.152231</td>\n",
       "      <td>70.034594</td>\n",
       "      <td>71.243536</td>\n",
       "      <td>70.445033</td>\n",
       "    </tr>\n",
       "    <tr>\n",
       "      <th>1</th>\n",
       "      <td>CNN</td>\n",
       "      <td>82.894737</td>\n",
       "      <td>75.213189</td>\n",
       "      <td>78.867362</td>\n",
       "      <td>58.555133</td>\n",
       "      <td>69.291339</td>\n",
       "      <td>63.472437</td>\n",
       "      <td>70.724935</td>\n",
       "      <td>72.252264</td>\n",
       "      <td>71.169900</td>\n",
       "    </tr>\n",
       "    <tr>\n",
       "      <th>2</th>\n",
       "      <td>LSTM</td>\n",
       "      <td>78.034047</td>\n",
       "      <td>80.784537</td>\n",
       "      <td>79.385475</td>\n",
       "      <td>59.129383</td>\n",
       "      <td>55.005624</td>\n",
       "      <td>56.993007</td>\n",
       "      <td>68.581715</td>\n",
       "      <td>67.895080</td>\n",
       "      <td>68.189241</td>\n",
       "    </tr>\n",
       "    <tr>\n",
       "      <th>3</th>\n",
       "      <td>BI-LSTM</td>\n",
       "      <td>79.549114</td>\n",
       "      <td>84.252416</td>\n",
       "      <td>81.833241</td>\n",
       "      <td>64.713376</td>\n",
       "      <td>57.142857</td>\n",
       "      <td>60.692951</td>\n",
       "      <td>72.131245</td>\n",
       "      <td>70.697637</td>\n",
       "      <td>71.263096</td>\n",
       "    </tr>\n",
       "    <tr>\n",
       "      <th>4</th>\n",
       "      <td>FastText</td>\n",
       "      <td>77.871148</td>\n",
       "      <td>79.022172</td>\n",
       "      <td>78.442438</td>\n",
       "      <td>57.242178</td>\n",
       "      <td>55.568054</td>\n",
       "      <td>56.392694</td>\n",
       "      <td>67.556663</td>\n",
       "      <td>67.295113</td>\n",
       "      <td>67.417566</td>\n",
       "    </tr>\n",
       "  </tbody>\n",
       "</table>\n",
       "</div>"
      ],
      "text/plain": [
       "      model      NOT-P     NOT-R      NOT-F1      OFF-P      OFF-R     OFF-F1  \\\n",
       "0        LR  81.801471  75.895395  78.737835  58.267717  66.591676  62.152231   \n",
       "1       CNN  82.894737  75.213189  78.867362  58.555133  69.291339  63.472437   \n",
       "2      LSTM  78.034047  80.784537  79.385475  59.129383  55.005624  56.993007   \n",
       "3   BI-LSTM  79.549114  84.252416  81.833241  64.713376  57.142857  60.692951   \n",
       "4  FastText  77.871148  79.022172  78.442438  57.242178  55.568054  56.392694   \n",
       "\n",
       "           P          R         F1  \n",
       "0  70.034594  71.243536  70.445033  \n",
       "1  70.724935  72.252264  71.169900  \n",
       "2  68.581715  67.895080  68.189241  \n",
       "3  72.131245  70.697637  71.263096  \n",
       "4  67.556663  67.295113  67.417566  "
      ]
     },
     "execution_count": 8,
     "metadata": {},
     "output_type": "execute_result"
    }
   ],
   "source": [
    "c = ['model', 'NOT-P', 'NOT-R ', 'NOT-F1','OFF-P', 'OFF-R', 'OFF-F1','P', 'R', 'F1']\n",
    "dsstat=pd.DataFrame(benchmarking, columns=c)\n",
    "path = '../results/models_performance.csv'\n",
    "dsstat.to_csv(path, index=False)\n",
    "dsstat"
   ]
  },
  {
   "cell_type": "markdown",
   "metadata": {},
   "source": [
    "# Embeddings"
   ]
  },
  {
   "cell_type": "code",
   "execution_count": 23,
   "metadata": {},
   "outputs": [
    {
     "data": {
      "text/plain": [
       "(39720, 8)"
      ]
     },
     "execution_count": 23,
     "metadata": {},
     "output_type": "execute_result"
    }
   ],
   "source": [
    "path='../results/predictions_embeddings_random.csv'\n",
    "ds = pd.read_csv(path,keep_default_na=False)\n",
    "ds['model'] = 'cnn'\n",
    "\n",
    "path='../results/predictions_embeddings_word2vec.csv'\n",
    "tmp = pd.read_csv(path,keep_default_na=False)\n",
    "tmp['model'] = 'cnn-w2v'\n",
    "ds = ds.append(tmp)\n",
    "\n",
    "path='../results/predictions_embeddings_fasttext.csv'\n",
    "tmp = pd.read_csv(path,keep_default_na=False)\n",
    "tmp['model'] = 'cnn-fasttext'\n",
    "ds = ds.append(tmp)\n",
    "\n",
    "ds.shape"
   ]
  },
  {
   "cell_type": "code",
   "execution_count": 22,
   "metadata": {},
   "outputs": [],
   "source": [
    "ds.loc[:13239,:].to_csv('../results/predictions_embeddings_random.csv', index=False)\n",
    "ds.loc[13240:26479,:].to_csv('../results/predictions_embeddings_word2vec.csv', index=False)\n",
    "ds.loc[26480:39719,:].to_csv('../results/predictions_embeddings_fasttext.csv', index=False)"
   ]
  },
  {
   "cell_type": "code",
   "execution_count": 24,
   "metadata": {},
   "outputs": [
    {
     "data": {
      "text/html": [
       "<div>\n",
       "<style scoped>\n",
       "    .dataframe tbody tr th:only-of-type {\n",
       "        vertical-align: middle;\n",
       "    }\n",
       "\n",
       "    .dataframe tbody tr th {\n",
       "        vertical-align: top;\n",
       "    }\n",
       "\n",
       "    .dataframe thead th {\n",
       "        text-align: right;\n",
       "    }\n",
       "</style>\n",
       "<table border=\"1\" class=\"dataframe\">\n",
       "  <thead>\n",
       "    <tr style=\"text-align: right;\">\n",
       "      <th></th>\n",
       "      <th></th>\n",
       "      <th></th>\n",
       "      <th>subtask_a_pred</th>\n",
       "    </tr>\n",
       "    <tr>\n",
       "      <th>model</th>\n",
       "      <th>run_id</th>\n",
       "      <th>set</th>\n",
       "      <th></th>\n",
       "    </tr>\n",
       "  </thead>\n",
       "  <tbody>\n",
       "    <tr>\n",
       "      <th rowspan=\"2\" valign=\"top\">cnn</th>\n",
       "      <th rowspan=\"2\" valign=\"top\">a7e54bea-6fe0-4d0d-a964-b97e4205d5ee</th>\n",
       "      <th>cv</th>\n",
       "      <td>10592</td>\n",
       "    </tr>\n",
       "    <tr>\n",
       "      <th>test</th>\n",
       "      <td>2648</td>\n",
       "    </tr>\n",
       "    <tr>\n",
       "      <th rowspan=\"2\" valign=\"top\">cnn-fasttext</th>\n",
       "      <th rowspan=\"2\" valign=\"top\">ed943f4f-7e49-4928-8e1c-c8aae6d32500</th>\n",
       "      <th>cv</th>\n",
       "      <td>10592</td>\n",
       "    </tr>\n",
       "    <tr>\n",
       "      <th>test</th>\n",
       "      <td>2648</td>\n",
       "    </tr>\n",
       "    <tr>\n",
       "      <th rowspan=\"2\" valign=\"top\">cnn-w2v</th>\n",
       "      <th rowspan=\"2\" valign=\"top\">53ad593b-aa67-4720-9a5b-484004173c2d</th>\n",
       "      <th>cv</th>\n",
       "      <td>10592</td>\n",
       "    </tr>\n",
       "    <tr>\n",
       "      <th>test</th>\n",
       "      <td>2648</td>\n",
       "    </tr>\n",
       "  </tbody>\n",
       "</table>\n",
       "</div>"
      ],
      "text/plain": [
       "                                                        subtask_a_pred\n",
       "model        run_id                               set                 \n",
       "cnn          a7e54bea-6fe0-4d0d-a964-b97e4205d5ee cv             10592\n",
       "                                                  test            2648\n",
       "cnn-fasttext ed943f4f-7e49-4928-8e1c-c8aae6d32500 cv             10592\n",
       "                                                  test            2648\n",
       "cnn-w2v      53ad593b-aa67-4720-9a5b-484004173c2d cv             10592\n",
       "                                                  test            2648"
      ]
     },
     "execution_count": 24,
     "metadata": {},
     "output_type": "execute_result"
    }
   ],
   "source": [
    "ds.groupby(['model','run_id','set']).agg({'subtask_a_pred': 'count'})"
   ]
  },
  {
   "cell_type": "code",
   "execution_count": 29,
   "metadata": {
    "scrolled": true
   },
   "outputs": [
    {
     "name": "stdout",
     "output_type": "stream",
     "text": [
      "              precision    recall  f1-score   support\n",
      "\n",
      "         NOT       0.79      0.83      0.81      1759\n",
      "         OFF       0.63      0.57      0.60       889\n",
      "\n",
      "   micro avg       0.74      0.74      0.74      2648\n",
      "   macro avg       0.71      0.70      0.71      2648\n",
      "weighted avg       0.74      0.74      0.74      2648\n",
      "\n"
     ]
    }
   ],
   "source": [
    "results = ds[(ds.model=='cnn') & (ds.set=='test')]\n",
    "print(classification_report(results.subtask_a, results.subtask_a_pred))"
   ]
  },
  {
   "cell_type": "code",
   "execution_count": 28,
   "metadata": {},
   "outputs": [],
   "source": [
    "benchmarking = []\n",
    "\n",
    "labels =['subtask_a']\n",
    "\n",
    "results = ds[(ds.model=='cnn') & (ds.set=='test')]\n",
    "m=calc_metrics(results, labels, ['Random'])\n",
    "benchmarking.append(m)\n",
    "\n",
    "results = ds[(ds.model=='cnn-w2v') & (ds.set=='test')]\n",
    "m=calc_metrics(results, labels, ['Word2Vec'])\n",
    "benchmarking.append(m)\n",
    "\n",
    "results = ds[(ds.model=='cnn-fasttext') & (ds.set=='test')]\n",
    "m=calc_metrics(results, labels, ['Fasttext'])\n",
    "benchmarking.append(m)\n"
   ]
  },
  {
   "cell_type": "code",
   "execution_count": 27,
   "metadata": {},
   "outputs": [
    {
     "data": {
      "text/html": [
       "<div>\n",
       "<style scoped>\n",
       "    .dataframe tbody tr th:only-of-type {\n",
       "        vertical-align: middle;\n",
       "    }\n",
       "\n",
       "    .dataframe tbody tr th {\n",
       "        vertical-align: top;\n",
       "    }\n",
       "\n",
       "    .dataframe thead th {\n",
       "        text-align: right;\n",
       "    }\n",
       "</style>\n",
       "<table border=\"1\" class=\"dataframe\">\n",
       "  <thead>\n",
       "    <tr style=\"text-align: right;\">\n",
       "      <th></th>\n",
       "      <th>model</th>\n",
       "      <th>NOT-P</th>\n",
       "      <th>NOT-R</th>\n",
       "      <th>NOT-F1</th>\n",
       "      <th>OFF-P</th>\n",
       "      <th>OFF-R</th>\n",
       "      <th>OFF-F1</th>\n",
       "      <th>P</th>\n",
       "      <th>R</th>\n",
       "      <th>F1</th>\n",
       "    </tr>\n",
       "  </thead>\n",
       "  <tbody>\n",
       "    <tr>\n",
       "      <th>0</th>\n",
       "      <td>Random</td>\n",
       "      <td>79.379761</td>\n",
       "      <td>82.944855</td>\n",
       "      <td>81.123158</td>\n",
       "      <td>62.962963</td>\n",
       "      <td>57.367829</td>\n",
       "      <td>60.035315</td>\n",
       "      <td>71.171362</td>\n",
       "      <td>70.156342</td>\n",
       "      <td>70.579237</td>\n",
       "    </tr>\n",
       "    <tr>\n",
       "      <th>1</th>\n",
       "      <td>Word2Vec</td>\n",
       "      <td>78.629250</td>\n",
       "      <td>82.831154</td>\n",
       "      <td>80.675526</td>\n",
       "      <td>62.012579</td>\n",
       "      <td>55.455568</td>\n",
       "      <td>58.551069</td>\n",
       "      <td>70.320914</td>\n",
       "      <td>69.143361</td>\n",
       "      <td>69.613297</td>\n",
       "    </tr>\n",
       "    <tr>\n",
       "      <th>2</th>\n",
       "      <td>Fasttext</td>\n",
       "      <td>82.543491</td>\n",
       "      <td>78.226265</td>\n",
       "      <td>80.326912</td>\n",
       "      <td>60.958206</td>\n",
       "      <td>67.266592</td>\n",
       "      <td>63.957219</td>\n",
       "      <td>71.750849</td>\n",
       "      <td>72.746428</td>\n",
       "      <td>72.142066</td>\n",
       "    </tr>\n",
       "  </tbody>\n",
       "</table>\n",
       "</div>"
      ],
      "text/plain": [
       "      model      NOT-P     NOT-R      NOT-F1      OFF-P      OFF-R     OFF-F1  \\\n",
       "0    Random  79.379761  82.944855  81.123158  62.962963  57.367829  60.035315   \n",
       "1  Word2Vec  78.629250  82.831154  80.675526  62.012579  55.455568  58.551069   \n",
       "2  Fasttext  82.543491  78.226265  80.326912  60.958206  67.266592  63.957219   \n",
       "\n",
       "           P          R         F1  \n",
       "0  71.171362  70.156342  70.579237  \n",
       "1  70.320914  69.143361  69.613297  \n",
       "2  71.750849  72.746428  72.142066  "
      ]
     },
     "execution_count": 27,
     "metadata": {},
     "output_type": "execute_result"
    }
   ],
   "source": [
    "c = ['model', 'NOT-P', 'NOT-R ', 'NOT-F1','OFF-P', 'OFF-R', 'OFF-F1','P', 'R', 'F1']\n",
    "dsstat=pd.DataFrame(benchmarking, columns=c)\n",
    "path = '../results/models_embeddings.csv'\n",
    "dsstat.to_csv(path, index=False)\n",
    "dsstat"
   ]
  }
 ],
 "metadata": {
  "kernelspec": {
   "display_name": "Python 3",
   "language": "python",
   "name": "python3"
  },
  "language_info": {
   "codemirror_mode": {
    "name": "ipython",
    "version": 3
   },
   "file_extension": ".py",
   "mimetype": "text/x-python",
   "name": "python",
   "nbconvert_exporter": "python",
   "pygments_lexer": "ipython3",
   "version": "3.7.3"
  }
 },
 "nbformat": 4,
 "nbformat_minor": 2
}
